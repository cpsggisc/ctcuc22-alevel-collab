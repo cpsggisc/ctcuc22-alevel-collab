{
  "nbformat": 4,
  "nbformat_minor": 0,
  "metadata": {
    "colab": {
      "name": "Python_Exercises-LeeYH.ipynb",
      "provenance": []
    },
    "kernelspec": {
      "name": "python3",
      "display_name": "Python 3"
    },
    "language_info": {
      "name": "python"
    }
  },
  "cells": [
    {
      "cell_type": "markdown",
      "source": [
        "Python Exercises"
      ],
      "metadata": {
        "id": "eUYdmejllqHS"
      }
    },
    {
      "cell_type": "code",
      "execution_count": 1,
      "metadata": {
        "colab": {
          "base_uri": "https://localhost:8080/"
        },
        "id": "iruNFQo6lodw",
        "outputId": "6a90a9f7-8eea-4e96-dcbf-a319e97d1406"
      },
      "outputs": [
        {
          "output_type": "stream",
          "name": "stdout",
          "text": [
            "55\n",
            "55\n"
          ]
        }
      ],
      "source": [
        "# Write a program to sum from 1 to n and output the result\n",
        "\n",
        "total = 0\n",
        "for i in range(1, 11):\n",
        "  total += i\n",
        "print(total)\n",
        "\n",
        "# Mr Lee's contribution\n",
        "# my suggestion - works but try to use first principle for A-level\n",
        "print(sum(list(range(11))))"
      ]
    }
  ]
}
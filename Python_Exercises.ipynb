{
  "nbformat": 4,
  "nbformat_minor": 0,
  "metadata": {
    "colab": {
      "name": "Python Exercises.ipynb",
      "provenance": []
    },
    "kernelspec": {
      "name": "python3",
      "display_name": "Python 3"
    },
    "language_info": {
      "name": "python"
    }
  },
  "cells": [
    {
      "cell_type": "markdown",
      "source": [
        "Python Exercises"
      ],
      "metadata": {
        "id": "eUYdmejllqHS"
      }
    },
    {
      "cell_type": "code",
      "execution_count": 1,
      "metadata": {
        "colab": {
          "base_uri": "https://localhost:8080/"
        },
        "id": "iruNFQo6lodw",
        "outputId": "92818324-e6c2-4444-a6ae-e9e65a101d8a"
      },
      "outputs": [
        {
          "output_type": "stream",
          "name": "stdout",
          "text": [
            "55\n"
          ]
        }
      ],
      "source": [
        "# Write a program to sum from 1 to n and output the result\n",
        "\n",
        "total = 0\n",
        "for i in range(1, 11):\n",
        "  total += i\n",
        "print(total)\n",
        "sum(list(range(11)))"
      ]
    }
  ]
}
